{
 "metadata": {
  "name": "case_n2"
 },
 "nbformat": 3,
 "nbformat_minor": 0,
 "worksheets": [
  {
   "cells": [
    {
     "cell_type": "code",
     "collapsed": false,
     "input": [
      "p1, p2, f1, f2 = symbols('p1:3,f1:3', real=True, positive=True)\n",
      "r11, r12, r21, r22 = symbols('r_11,r_12,r_21,r_22', real=True, positive=True)"
     ],
     "language": "python",
     "metadata": {},
     "outputs": [],
     "prompt_number": 1
    },
    {
     "cell_type": "code",
     "collapsed": false,
     "input": [
      "p2expr = (f2 - p1 * r12) / (1 - r21)\n",
      "p1expr = (f1 - p2 * r21) / (1 - r12)\n",
      "p1expr, p2expr"
     ],
     "language": "python",
     "metadata": {},
     "outputs": [
      {
       "latex": [
        "$$\\begin{pmatrix}\\frac{f_{1} - p_{2} r_{21}}{- r_{12} + 1}, & \\frac{f_{2} - p_{1} r_{12}}{- r_{21} + 1}\\end{pmatrix}$$"
       ],
       "output_type": "pyout",
       "prompt_number": 2,
       "text": [
        "(\n",
        "f\u2081 - p\u2082\u22c5r\u2082\u2081\n",
        "\u2500\u2500\u2500\u2500\u2500\u2500\u2500\u2500\u2500\u2500\u2500\n",
        "  -r\u2081\u2082 + 1 , \n",
        "f\u2082 - p\u2081\u22c5r\u2081\u2082\n",
        "\u2500\u2500\u2500\u2500\u2500\u2500\u2500\u2500\u2500\u2500\u2500\n",
        "  -r\u2082\u2081 + 1 )"
       ]
      }
     ],
     "prompt_number": 2
    },
    {
     "cell_type": "code",
     "collapsed": false,
     "input": [
      "p1expr.subs(p2, p2expr) - p1"
     ],
     "language": "python",
     "metadata": {},
     "outputs": [
      {
       "latex": [
        "$$- p_{1} + \\frac{f_{1} - \\frac{r_{21} \\left(f_{2} - p_{1} r_{12}\\right)}{- r_{21} + 1}}{- r_{12} + 1}$$"
       ],
       "output_type": "pyout",
       "png": "[encoded data removed]",
       "prompt_number": 3,
       "text": [
        "\n",
        "           r\u2082\u2081\u22c5(f\u2082 - p\u2081\u22c5r\u2081\u2082)\n",
        "      f\u2081 - \u2500\u2500\u2500\u2500\u2500\u2500\u2500\u2500\u2500\u2500\u2500\u2500\u2500\u2500\u2500\u2500\u2500\n",
        "                -r\u2082\u2081 + 1    \n",
        "-p\u2081 + \u2500\u2500\u2500\u2500\u2500\u2500\u2500\u2500\u2500\u2500\u2500\u2500\u2500\u2500\u2500\u2500\u2500\u2500\u2500\u2500\u2500\u2500\n",
        "             -r\u2081\u2082 + 1       "
       ]
      }
     ],
     "prompt_number": 3
    },
    {
     "cell_type": "code",
     "collapsed": false,
     "input": [
      "solve(_, p1)[0]"
     ],
     "language": "python",
     "metadata": {},
     "outputs": [
      {
       "latex": [
        "$$\\frac{f_{1} r_{21} - f_{1} + f_{2} r_{21}}{r_{12} + r_{21} -1}$$"
       ],
       "output_type": "pyout",
       "png": "[encoded data removed]",
       "prompt_number": 4,
       "text": [
        "\n",
        "f\u2081\u22c5r\u2082\u2081 - f\u2081 + f\u2082\u22c5r\u2082\u2081\n",
        "\u2500\u2500\u2500\u2500\u2500\u2500\u2500\u2500\u2500\u2500\u2500\u2500\u2500\u2500\u2500\u2500\u2500\u2500\u2500\u2500\n",
        "   r\u2081\u2082 + r\u2082\u2081 - 1    "
       ]
      }
     ],
     "prompt_number": 4
    },
    {
     "cell_type": "code",
     "collapsed": false,
     "input": [
      "_.subs(f2, 1-f1)\n"
     ],
     "language": "python",
     "metadata": {},
     "outputs": [
      {
       "latex": [
        "$$\\frac{f_{1} r_{21} - f_{1} + r_{21} \\left(- f_{1} + 1\\right)}{r_{12} + r_{21} -1}$$"
       ],
       "output_type": "pyout",
       "png": "[encoded data removed]",
       "prompt_number": 5,
       "text": [
        "\n",
        "f\u2081\u22c5r\u2082\u2081 - f\u2081 + r\u2082\u2081\u22c5(-f\u2081 + 1)\n",
        "\u2500\u2500\u2500\u2500\u2500\u2500\u2500\u2500\u2500\u2500\u2500\u2500\u2500\u2500\u2500\u2500\u2500\u2500\u2500\u2500\u2500\u2500\u2500\u2500\u2500\u2500\u2500\n",
        "       r\u2081\u2082 + r\u2082\u2081 - 1       "
       ]
      }
     ],
     "prompt_number": 5
    },
    {
     "cell_type": "code",
     "collapsed": false,
     "input": [
      "simplify(_)"
     ],
     "language": "python",
     "metadata": {},
     "outputs": [
      {
       "latex": [
        "$$\\frac{- f_{1} + r_{21}}{r_{12} + r_{21} -1}$$"
       ],
       "output_type": "pyout",
       "png": "[encoded data removed]",
       "prompt_number": 6,
       "text": [
        "\n",
        "  -f\u2081 + r\u2082\u2081  \n",
        "\u2500\u2500\u2500\u2500\u2500\u2500\u2500\u2500\u2500\u2500\u2500\u2500\u2500\n",
        "r\u2081\u2082 + r\u2082\u2081 - 1"
       ]
      }
     ],
     "prompt_number": 6
    }
   ],
   "metadata": {}
  }
 ]
}