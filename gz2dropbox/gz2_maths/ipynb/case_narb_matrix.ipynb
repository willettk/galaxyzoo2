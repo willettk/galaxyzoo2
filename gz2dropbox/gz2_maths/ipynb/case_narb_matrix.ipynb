{
 "metadata": {
  "name": "case_narb_matrix"
 },
 "nbformat": 3,
 "nbformat_minor": 0,
 "worksheets": [
  {
   "cells": [
    {
     "cell_type": "heading",
     "level": 2,
     "metadata": {},
     "source": [
      "Matrix solution"
     ]
    },
    {
     "cell_type": "markdown",
     "metadata": {},
     "source": [
      "First, select the number of answers, $n$, to the question being considered and define the fractions $f_i$ corresponding to answer $i$ and the likelihood, $r_{ij}$, that an object that truly correponds to answer $i$ will be assigned to answer $j$.  If $i$ $\\neq$ $j$ then that object has been misclassified.  Obviously the $r_{ii}$ $=$ $1$ $-$ $\\sum_{i \\neq j}$ $r_{ij}$ , and so are not independent.  Similarly, one of the $f_i$ may be eliminated by recognising that $\\sum_i$ $f_i$ $=$ $1$."
     ]
    },
    {
     "cell_type": "code",
     "collapsed": false,
     "input": [
      "n = 4\n",
      "f_i = symbols('f1:%i'%(n+1), real=True, positive=True)\n",
      "r_ij = [[symbols('r%i%i'%(i, j), real=True, positive=True) for j in range(1,n+1)] for i in range(1,n+1)]"
     ],
     "language": "python",
     "metadata": {},
     "outputs": [],
     "prompt_number": 169
    },
    {
     "cell_type": "markdown",
     "metadata": {},
     "source": [
      "Define the vector of observed answer fractions, $\\boldsymbol{f}$, and the transfer matrix, $\\boldsymbol{r}$.  Both are given symbolic contents, $f_i$ and $r_{ij}$ , respectively, which could be replaced with actual values when known."
     ]
    },
    {
     "cell_type": "code",
     "collapsed": false,
     "input": [
      "f = Matrix(f_i)\n",
      "r = Matrix(r_ij)"
     ],
     "language": "python",
     "metadata": {},
     "outputs": [],
     "prompt_number": 170
    },
    {
     "cell_type": "markdown",
     "metadata": {},
     "source": [
      "The matrix $\\boldsymbol{r}$ is defined with standard index numbering, but in our case we have $f_i$ $=$ $r_{ji}$ $p_j$ , so we need to transpose the standard matrix."
     ]
    },
    {
     "cell_type": "code",
     "collapsed": false,
     "input": [
      "rT = r.transpose()\n",
      "rT"
     ],
     "language": "python",
     "metadata": {},
     "outputs": [
      {
       "latex": [
        "$$\\left(\\begin{smallmatrix}r_{11} & r_{21} & r_{31} & r_{41}\\\\r_{12} & r_{22} & r_{32} & r_{42}\\\\r_{13} & r_{23} & r_{33} & r_{43}\\\\r_{14} & r_{24} & r_{34} & r_{44}\\end{smallmatrix}\\right)$$"
       ],
       "output_type": "pyout",
       "png": "[encoded data removed]",
       "prompt_number": 171,
       "text": [
        "\n",
        "\u23a1r\u2081\u2081  r\u2082\u2081  r\u2083\u2081  r\u2084\u2081\u23a4\n",
        "\u23a2                  \u23a5\n",
        "\u23a2r\u2081\u2082  r\u2082\u2082  r\u2083\u2082  r\u2084\u2082\u23a5\n",
        "\u23a2                  \u23a5\n",
        "\u23a2r\u2081\u2083  r\u2082\u2083  r\u2083\u2083  r\u2084\u2083\u23a5\n",
        "\u23a2                  \u23a5\n",
        "\u23a3r\u2081\u2084  r\u2082\u2084  r\u2083\u2084  r\u2084\u2084\u23a6"
       ]
      }
     ],
     "prompt_number": 171
    },
    {
     "cell_type": "markdown",
     "metadata": {},
     "source": [
      "Following the definition of $\\boldsymbol{r}$ above, we have that $\\boldsymbol{f}$ $=$ $\\boldsymbol{r}^T$ $\\cdot$ $\\boldsymbol{p}$ , and we wish to solve for $\\boldsymbol{p}$.  This may be achieved using standard methods, in this case Gaussian elimination utilising LU decomposition."
     ]
    },
    {
     "cell_type": "code",
     "collapsed": false,
     "input": [
      "p = rT.LUsolve(f)"
     ],
     "language": "python",
     "metadata": {},
     "outputs": [],
     "prompt_number": 172
    },
    {
     "cell_type": "markdown",
     "metadata": {},
     "source": [
      "The products of the above matrix linear algebra operation is a complex expression for each element of $\\boldsymbol{p}$, which may be greatly simplified, especially when $r_{ii}$ $=$ $1$ $-$ $\\sum_{i \\neq j}$ $r_{ij}$ and $\\sum_i$ $f_i$ $=$ $1$ are substituted later.  The simplification can be very slow for highly nested expressions, but the following approach works ok for $n$ $\\leq$ $3$. For convenience we define a function to perform the \"cleaning\" of the maths and display of the results."
     ]
    },
    {
     "cell_type": "code",
     "collapsed": false,
     "input": [
      "def clean(p):\n",
      "    for i, pi in enumerate(p):\n",
      "        p[i] = together(pi).simplify().collect(f_i)\n",
      "    return p"
     ],
     "language": "python",
     "metadata": {},
     "outputs": [],
     "prompt_number": 173
    },
    {
     "cell_type": "code",
     "collapsed": false,
     "input": [
      "for i in range(n):\n",
      "    x = 1-sum(r[i,:max(0,i)])-sum(r[i,min(n,i+1):])\n",
      "    p = p.subs(r[i,i], x)\n",
      "# clean(p)  # beware this can be very slow as the expressions are quite complex for n > 3"
     ],
     "language": "python",
     "metadata": {},
     "outputs": [],
     "prompt_number": 174
    },
    {
     "cell_type": "code",
     "collapsed": false,
     "input": [
      "p = p.subs(f[-1], 1-sum(f[:-1]))\n",
      "#clean(p)  # beware this can be very slow as the expressions are quite complex for n > 3\n",
      "#[x for x in p]  # display a bit more nicely"
     ],
     "language": "python",
     "metadata": {},
     "outputs": [],
     "prompt_number": 175
    },
    {
     "cell_type": "markdown",
     "metadata": {},
     "source": [
      "We can check that this is consistent with the $n$ $=$ $2$ case computed previously by a non-matrix approach, or using the above approach with $n$ $=$ $2$, by setting all terms involving $i$ > 2 to zero.  For convenience we define a function to do this."
     ]
    },
    {
     "cell_type": "code",
     "collapsed": false,
     "input": [
      "def check_lower_n(nn):\n",
      "    subslist = zip(f[nn:], [0]*n) + zip(r[nn:,:], [0]*n*n) + zip(r[:,nn:], [0]*n*n)\n",
      "    subslist.append((f[nn-1], 1-sum(f[:nn-1])))\n",
      "    pp = p.subs(subslist)\n",
      "    clean(pp)  # this can be very slow as the expressions are quite complex for n > 3\n",
      "    return [x for x in pp[:nn]]"
     ],
     "language": "python",
     "metadata": {},
     "outputs": [],
     "prompt_number": 176
    },
    {
     "cell_type": "code",
     "collapsed": false,
     "input": [
      "p2 = check_lower_n(2)\n",
      "p2"
     ],
     "language": "python",
     "metadata": {},
     "outputs": [
      {
       "latex": [
        "$$\\begin{bmatrix}\\frac{- f_{1} + r_{21}}{r_{12} + r_{21} -1}, & \\frac{f_{1} + r_{12} -1}{r_{12} + r_{21} -1}\\end{bmatrix}$$"
       ],
       "output_type": "pyout",
       "prompt_number": 177,
       "text": [
        "[\n",
        "  -f\u2081 + r\u2082\u2081  \n",
        "\u2500\u2500\u2500\u2500\u2500\u2500\u2500\u2500\u2500\u2500\u2500\u2500\u2500\n",
        "r\u2081\u2082 + r\u2082\u2081 - 1,\n",
        " \n",
        " f\u2081 + r\u2081\u2082 - 1\n",
        "\u2500\u2500\u2500\u2500\u2500\u2500\u2500\u2500\u2500\u2500\u2500\u2500\u2500\n",
        "r\u2081\u2082 + r\u2082\u2081 - 1]"
       ]
      }
     ],
     "prompt_number": 177
    },
    {
     "cell_type": "markdown",
     "metadata": {},
     "source": [
      "We can also see that it is consistent for the $n$ = 3 case."
     ]
    },
    {
     "cell_type": "code",
     "collapsed": false,
     "input": [
      "p3 = check_lower_n(3)\n",
      "p3[0]"
     ],
     "language": "python",
     "metadata": {},
     "outputs": [
      {
       "latex": [
        "$$\\frac{f_{1} \\left(- r_{21} - r_{23} - r_{32} + 1\\right) + f_{2} \\left(- r_{21} + r_{31}\\right) + r_{21} r_{31} + r_{21} r_{32} + r_{23} r_{31} - r_{31}}{r_{12} r_{23} + r_{12} r_{31} + r_{12} r_{32} - r_{12} + r_{13} r_{21} + r_{13} r_{23} + r_{13} r_{32} - r_{13} + r_{21} r_{31} + r_{21} r_{32} - r_{21} + r_{23} r_{31} - r_{23} - r_{31} - r_{32} + 1}$$"
       ],
       "output_type": "pyout",
       "png": "[encoded data removed]",
       "prompt_number": 178,
       "text": [
        "\n",
        "                        f\u2081\u22c5(-r\u2082\u2081 - r\u2082\u2083 - r\u2083\u2082 + 1) + f\u2082\u22c5(-r\u2082\u2081 + r\u2083\u2081) + r\u2082\u2081\u22c5r\u2083\u2081 \n",
        "\u2500\u2500\u2500\u2500\u2500\u2500\u2500\u2500\u2500\u2500\u2500\u2500\u2500\u2500\u2500\u2500\u2500\u2500\u2500\u2500\u2500\u2500\u2500\u2500\u2500\u2500\u2500\u2500\u2500\u2500\u2500\u2500\u2500\u2500\u2500\u2500\u2500\u2500\u2500\u2500\u2500\u2500\u2500\u2500\u2500\u2500\u2500\u2500\u2500\u2500\u2500\u2500\u2500\u2500\u2500\u2500\u2500\u2500\u2500\u2500\u2500\u2500\u2500\u2500\u2500\u2500\u2500\u2500\u2500\u2500\u2500\u2500\u2500\u2500\u2500\u2500\u2500\u2500\n",
        "r\u2081\u2082\u22c5r\u2082\u2083 + r\u2081\u2082\u22c5r\u2083\u2081 + r\u2081\u2082\u22c5r\u2083\u2082 - r\u2081\u2082 + r\u2081\u2083\u22c5r\u2082\u2081 + r\u2081\u2083\u22c5r\u2082\u2083 + r\u2081\u2083\u22c5r\u2083\u2082 - r\u2081\u2083 + r\u2082\u2081\u22c5r\u2083\n",
        "\n",
        "+ r\u2082\u2081\u22c5r\u2083\u2082 + r\u2082\u2083\u22c5r\u2083\u2081 - r\u2083\u2081                        \n",
        "\u2500\u2500\u2500\u2500\u2500\u2500\u2500\u2500\u2500\u2500\u2500\u2500\u2500\u2500\u2500\u2500\u2500\u2500\u2500\u2500\u2500\u2500\u2500\u2500\u2500\u2500\u2500\u2500\u2500\u2500\u2500\u2500\u2500\u2500\u2500\u2500\u2500\u2500\u2500\u2500\u2500\u2500\u2500\u2500\u2500\u2500\u2500\u2500\u2500\n",
        "\u2081 + r\u2082\u2081\u22c5r\u2083\u2082 - r\u2082\u2081 + r\u2082\u2083\u22c5r\u2083\u2081 - r\u2082\u2083 - r\u2083\u2081 - r\u2083\u2082 + 1"
       ]
      }
     ],
     "prompt_number": 178
    },
    {
     "cell_type": "code",
     "collapsed": false,
     "input": [
      "p3[1]"
     ],
     "language": "python",
     "metadata": {},
     "outputs": [
      {
       "latex": [
        "$$\\frac{f_{1} \\left(- r_{12} + r_{32}\\right) + f_{2} \\left(- r_{12} - r_{13} - r_{31} + 1\\right) + r_{12} r_{31} + r_{12} r_{32} + r_{13} r_{32} - r_{32}}{r_{12} r_{23} + r_{12} r_{31} + r_{12} r_{32} - r_{12} + r_{13} r_{21} + r_{13} r_{23} + r_{13} r_{32} - r_{13} + r_{21} r_{31} + r_{21} r_{32} - r_{21} + r_{23} r_{31} - r_{23} - r_{31} - r_{32} + 1}$$"
       ],
       "output_type": "pyout",
       "png": "[encoded data removed]",
       "prompt_number": 179,
       "text": [
        "\n",
        "                        f\u2081\u22c5(-r\u2081\u2082 + r\u2083\u2082) + f\u2082\u22c5(-r\u2081\u2082 - r\u2081\u2083 - r\u2083\u2081 + 1) + r\u2081\u2082\u22c5r\u2083\u2081 \n",
        "\u2500\u2500\u2500\u2500\u2500\u2500\u2500\u2500\u2500\u2500\u2500\u2500\u2500\u2500\u2500\u2500\u2500\u2500\u2500\u2500\u2500\u2500\u2500\u2500\u2500\u2500\u2500\u2500\u2500\u2500\u2500\u2500\u2500\u2500\u2500\u2500\u2500\u2500\u2500\u2500\u2500\u2500\u2500\u2500\u2500\u2500\u2500\u2500\u2500\u2500\u2500\u2500\u2500\u2500\u2500\u2500\u2500\u2500\u2500\u2500\u2500\u2500\u2500\u2500\u2500\u2500\u2500\u2500\u2500\u2500\u2500\u2500\u2500\u2500\u2500\u2500\u2500\u2500\n",
        "r\u2081\u2082\u22c5r\u2082\u2083 + r\u2081\u2082\u22c5r\u2083\u2081 + r\u2081\u2082\u22c5r\u2083\u2082 - r\u2081\u2082 + r\u2081\u2083\u22c5r\u2082\u2081 + r\u2081\u2083\u22c5r\u2082\u2083 + r\u2081\u2083\u22c5r\u2083\u2082 - r\u2081\u2083 + r\u2082\u2081\u22c5r\u2083\n",
        "\n",
        "+ r\u2081\u2082\u22c5r\u2083\u2082 + r\u2081\u2083\u22c5r\u2083\u2082 - r\u2083\u2082                        \n",
        "\u2500\u2500\u2500\u2500\u2500\u2500\u2500\u2500\u2500\u2500\u2500\u2500\u2500\u2500\u2500\u2500\u2500\u2500\u2500\u2500\u2500\u2500\u2500\u2500\u2500\u2500\u2500\u2500\u2500\u2500\u2500\u2500\u2500\u2500\u2500\u2500\u2500\u2500\u2500\u2500\u2500\u2500\u2500\u2500\u2500\u2500\u2500\u2500\u2500\n",
        "\u2081 + r\u2082\u2081\u22c5r\u2083\u2082 - r\u2082\u2081 + r\u2082\u2083\u22c5r\u2083\u2081 - r\u2082\u2083 - r\u2083\u2081 - r\u2083\u2082 + 1"
       ]
      }
     ],
     "prompt_number": 179
    },
    {
     "cell_type": "code",
     "collapsed": false,
     "input": [
      "p3[2]"
     ],
     "language": "python",
     "metadata": {},
     "outputs": [
      {
       "latex": [
        "$$\\frac{f_{1} \\left(r_{12} + r_{21} + r_{23} -1\\right) + f_{2} \\left(r_{12} + r_{13} + r_{21} -1\\right) + r_{12} r_{23} - r_{12} + r_{13} r_{21} + r_{13} r_{23} - r_{13} - r_{21} - r_{23} + 1}{r_{12} r_{23} + r_{12} r_{31} + r_{12} r_{32} - r_{12} + r_{13} r_{21} + r_{13} r_{23} + r_{13} r_{32} - r_{13} + r_{21} r_{31} + r_{21} r_{32} - r_{21} + r_{23} r_{31} - r_{23} - r_{31} - r_{32} + 1}$$"
       ],
       "output_type": "pyout",
       "png": "[encoded data removed]",
       "prompt_number": 180,
       "text": [
        "\n",
        "         f\u2081\u22c5(r\u2081\u2082 + r\u2082\u2081 + r\u2082\u2083 - 1) + f\u2082\u22c5(r\u2081\u2082 + r\u2081\u2083 + r\u2082\u2081 - 1) + r\u2081\u2082\u22c5r\u2082\u2083 - r\u2081\u2082 +\n",
        "\u2500\u2500\u2500\u2500\u2500\u2500\u2500\u2500\u2500\u2500\u2500\u2500\u2500\u2500\u2500\u2500\u2500\u2500\u2500\u2500\u2500\u2500\u2500\u2500\u2500\u2500\u2500\u2500\u2500\u2500\u2500\u2500\u2500\u2500\u2500\u2500\u2500\u2500\u2500\u2500\u2500\u2500\u2500\u2500\u2500\u2500\u2500\u2500\u2500\u2500\u2500\u2500\u2500\u2500\u2500\u2500\u2500\u2500\u2500\u2500\u2500\u2500\u2500\u2500\u2500\u2500\u2500\u2500\u2500\u2500\u2500\u2500\u2500\u2500\u2500\u2500\u2500\u2500\n",
        "r\u2081\u2082\u22c5r\u2082\u2083 + r\u2081\u2082\u22c5r\u2083\u2081 + r\u2081\u2082\u22c5r\u2083\u2082 - r\u2081\u2082 + r\u2081\u2083\u22c5r\u2082\u2081 + r\u2081\u2083\u22c5r\u2082\u2083 + r\u2081\u2083\u22c5r\u2083\u2082 - r\u2081\u2083 + r\u2082\u2081\u22c5r\u2083\n",
        "\n",
        " r\u2081\u2083\u22c5r\u2082\u2081 + r\u2081\u2083\u22c5r\u2082\u2083 - r\u2081\u2083 - r\u2082\u2081 - r\u2082\u2083 + 1         \n",
        "\u2500\u2500\u2500\u2500\u2500\u2500\u2500\u2500\u2500\u2500\u2500\u2500\u2500\u2500\u2500\u2500\u2500\u2500\u2500\u2500\u2500\u2500\u2500\u2500\u2500\u2500\u2500\u2500\u2500\u2500\u2500\u2500\u2500\u2500\u2500\u2500\u2500\u2500\u2500\u2500\u2500\u2500\u2500\u2500\u2500\u2500\u2500\u2500\u2500\n",
        "\u2081 + r\u2082\u2081\u22c5r\u2083\u2082 - r\u2082\u2081 + r\u2082\u2083\u22c5r\u2083\u2081 - r\u2082\u2083 - r\u2083\u2081 - r\u2083\u2082 + 1"
       ]
      }
     ],
     "prompt_number": 180
    },
    {
     "cell_type": "heading",
     "level": 2,
     "metadata": {},
     "source": [
      "Comparing with Bamford et al. (2009)"
     ]
    },
    {
     "cell_type": "markdown",
     "metadata": {},
     "source": [
      "Take $i$ $=$ $1$: spiral; $i$ $=$ $2$: early-type; $i$ $=$ $3$: other, then we can apply the above approach, with $n$ $=$ $3$, together with the assumptions made in Bamford et al. (2009), and compare.\n",
      "\n",
      "If we assume that the bias only results in some proportion of true spiral answers being assigned to the early-type option, then all the $r_{ij}$ are zero for $i$ $\\neq$ $j$ and one for $i$ $=$ $j$, except for $r_{12}$ and $r_{11}$ $=$ $1$ $-$ $r_{12}$."
     ]
    },
    {
     "cell_type": "code",
     "collapsed": false,
     "input": [
      "new_r = eye(n)\n",
      "new_r[0,1] = r[0,1]\n",
      "new_r[0,0] = 1 - r[0,1]\n",
      "subslist = zip(r.reshape(1, n*n)[:], new_r.reshape(1, n*n)[:])\n",
      "subslist.append((f[3], 0))\n",
      "r.subs(subslist), f.subs(subslist)"
     ],
     "language": "python",
     "metadata": {},
     "outputs": [
      {
       "latex": [
        "$$\\begin{pmatrix}\\left(\\begin{smallmatrix}- r_{12} + 1 & r_{12} & 0 & 0\\\\0 & 1 & 0 & 0\\\\0 & 0 & 1 & 0\\\\0 & 0 & 0 & 1\\end{smallmatrix}\\right), & \\left(\\begin{smallmatrix}f_{1}\\\\f_{2}\\\\f_{3}\\\\0\\end{smallmatrix}\\right)\\end{pmatrix}$$"
       ],
       "output_type": "pyout",
       "prompt_number": 181,
       "text": [
        "(\n",
        "\u23a1-r\u2081\u2082 + 1  r\u2081\u2082  0  0\u23a4\n",
        "\u23a2                   \u23a5\n",
        "\u23a2   0       1   0  0\u23a5\n",
        "\u23a2                   \u23a5\n",
        "\u23a2   0       0   1  0\u23a5\n",
        "\u23a2                   \u23a5\n",
        "\u23a3   0       0   0  1\u23a6,\n",
        " \n",
        "\u23a1f\u2081\u23a4\n",
        "\u23a2  \u23a5\n",
        "\u23a2f\u2082\u23a5\n",
        "\u23a2  \u23a5\n",
        "\u23a2f\u2083\u23a5\n",
        "\u23a2  \u23a5\n",
        "\u23a30 \u23a6)"
       ]
      }
     ],
     "prompt_number": 181
    },
    {
     "cell_type": "code",
     "collapsed": false,
     "input": [
      "p_gz = p.subs(subslist)[:3]\n",
      "clean(p_gz)"
     ],
     "language": "python",
     "metadata": {},
     "outputs": [
      {
       "latex": [
        "$$\\begin{bmatrix}\\frac{f_{1}}{- r_{12} + 1}, & \\frac{f_{1} r_{12} + f_{2} \\left(r_{12} -1\\right)}{r_{12} -1}, & f_{3}\\end{bmatrix}$$"
       ],
       "output_type": "pyout",
       "prompt_number": 182,
       "text": [
        "[\n",
        "   f\u2081   \n",
        "\u2500\u2500\u2500\u2500\u2500\u2500\u2500\u2500\n",
        "-r\u2081\u2082 + 1,\n",
        " \n",
        "f\u2081\u22c5r\u2081\u2082 + f\u2082\u22c5(r\u2081\u2082 - 1)\n",
        "\u2500\u2500\u2500\u2500\u2500\u2500\u2500\u2500\u2500\u2500\u2500\u2500\u2500\u2500\u2500\u2500\u2500\u2500\u2500\u2500\u2500\n",
        "       r\u2081\u2082 - 1       ,\n",
        " f\u2083]"
       ]
      }
     ],
     "prompt_number": 182
    },
    {
     "cell_type": "markdown",
     "metadata": {},
     "source": [
      "Bamford et al. (2009) determines and applies the correction in terms of the early-type to spiral ratio.\n",
      "\n",
      "$$1/K = 10^C = \\left< \\frac{n_{\\rm el}}{n_{\\rm sp}}\\right> \\bigg/ \\left< \\frac{n_{\\rm el}}{n_{\\rm sp}}\\right>_{\\rm true}$$\n",
      "\n",
      "where the number ratios are determined in bins over which the correction is expected to be roughly constant.\n",
      "\n",
      "In terms of the quantiites used above,\n",
      "\n",
      "$$1/K = \\left<\\frac{f_2}{f_1}\\right> \\bigg/ \\left<\\frac{p_2}{p_1}\\right>.$$\n",
      "\n",
      "Again, $\\left< f_2/f_1\\right>$ and $\\left< p_2/p_1\\right>$ are bin averages.  However, rearranging:\n",
      "\n",
      "$$K = \\frac{p_2 f_1}{f_2 p_1}$$"
     ]
    },
    {
     "cell_type": "code",
     "collapsed": false,
     "input": [
      "K = (p_gz[1] * f[0] / (f[1] * p_gz[0]))\n",
      "(K.subs(f[0], 1-f[1]).simplify())"
     ],
     "language": "python",
     "metadata": {},
     "outputs": [
      {
       "latex": [
        "$$\\frac{f_{2} - r_{12}}{f_{2}}$$"
       ],
       "output_type": "pyout",
       "png": "[encoded data removed]",
       "prompt_number": 183,
       "text": [
        "\n",
        "f\u2082 - r\u2081\u2082\n",
        "\u2500\u2500\u2500\u2500\u2500\u2500\u2500\u2500\n",
        "   f\u2082   "
       ]
      }
     ],
     "prompt_number": 183
    },
    {
     "cell_type": "markdown",
     "metadata": {},
     "source": [
      "The correction is then applied as,\n",
      "\n",
      "$$\\frac{p_2}{p_1} = \\frac{f_2}{f_1} K$$\n",
      "\n",
      "and\n",
      "\n",
      "$$p_1 = \\frac{1}{p_2/p_1 + f_3/f_1 + 1}\n",
      "= \\frac{1}{(f_2 - r_{12})/f_1 + f_3/f_1 + 1}\n",
      "= \\frac{f_1}{(f_2 - r_{12}) + f_3 + f_1}\n",
      "= \\frac{f_1}{1 - r_{12}}\n",
      "$$"
     ]
    }
   ],
   "metadata": {}
  }
 ]
}