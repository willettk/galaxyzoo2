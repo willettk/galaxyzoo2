{
 "metadata": {
  "name": "case_narb_try1"
 },
 "nbformat": 3,
 "nbformat_minor": 0,
 "worksheets": [
  {
   "cells": [
    {
     "cell_type": "code",
     "collapsed": false,
     "input": [
      "i, j, k, n = symbols('i,j,k,n', integer=True, positive=True)\n",
      "pi = Function('p', real=True, positive=True)(i)\n",
      "pj = Function('p', real=True, positive=True)(j)\n",
      "pk = Function('p', real=True, positive=True)(k)\n",
      "fi = Function('f', real=True, positive=True)(i)\n",
      "fj = Function('f', real=True, positive=True)(j)\n",
      "rij = Function('r', real=True, positive=True)(i, j)\n",
      "rji = Function('r', real=True, positive=True)(j, i)\n",
      "rii = Function('r', real=True, positive=True)(i, i)\n",
      "rjj = Function('r', real=True, positive=True)(j, j)\n",
      "rkj = Function('r', real=True, positive=True)(k, j)\n",
      "#p_i, p_j, p_k = symbols('p_i,p_j,p_k', real=True, positive=True)\n",
      "#f, f_j, f_k = symbols('f_i,f_j,f_k', real=True, positive=True)\n",
      "#r_i_i, r_j_i = symbols('r_i_i,r_i_j', real=True, positive=True)"
     ],
     "language": "python",
     "metadata": {},
     "outputs": [],
     "prompt_number": 76
    },
    {
     "cell_type": "code",
     "collapsed": false,
     "input": [
      "p_i_expr = (fi - summation(pj * rji, (j, 1, n))) / rii\n",
      "p_i_expr"
     ],
     "language": "python",
     "metadata": {},
     "outputs": [
      {
       "latex": [
        "$$\\frac{\\operatorname{f}\\left(i\\right) - \\sum_{j=1}^{n} \\operatorname{p}\\left(j\\right) \\operatorname{r}\\left(j,i\\right)}{\\operatorname{r}\\left(i,i\\right)}$$"
       ],
       "output_type": "pyout",
       "png": "[encoded data removed]",
       "prompt_number": 77,
       "text": [
        "\n",
        "         n               \n",
        "        __               \n",
        "        \\ `              \n",
        "f(i) -   )   p(j)\u22c5r(j, i)\n",
        "        /_,              \n",
        "       j = 1             \n",
        "\u2500\u2500\u2500\u2500\u2500\u2500\u2500\u2500\u2500\u2500\u2500\u2500\u2500\u2500\u2500\u2500\u2500\u2500\u2500\u2500\u2500\u2500\u2500\u2500\u2500\n",
        "         r(i, i)         "
       ]
      }
     ],
     "prompt_number": 77
    },
    {
     "cell_type": "code",
     "collapsed": false,
     "input": [
      "p_j_expr = (fj - summation(pk * rkj, (k, 1, n))) / rjj\n",
      "p_j_expr"
     ],
     "language": "python",
     "metadata": {},
     "outputs": [
      {
       "latex": [
        "$$\\frac{\\operatorname{f}\\left(j\\right) - \\sum_{k=1}^{n} \\operatorname{p}\\left(k\\right) \\operatorname{r}\\left(k,j\\right)}{\\operatorname{r}\\left(j,j\\right)}$$"
       ],
       "output_type": "pyout",
       "png": "[encoded data removed]",
       "prompt_number": 78,
       "text": [
        "\n",
        "         n               \n",
        "        __               \n",
        "        \\ `              \n",
        "f(j) -   )   p(k)\u22c5r(k, j)\n",
        "        /_,              \n",
        "       k = 1             \n",
        "\u2500\u2500\u2500\u2500\u2500\u2500\u2500\u2500\u2500\u2500\u2500\u2500\u2500\u2500\u2500\u2500\u2500\u2500\u2500\u2500\u2500\u2500\u2500\u2500\u2500\n",
        "         r(j, j)         "
       ]
      }
     ],
     "prompt_number": 78
    },
    {
     "cell_type": "code",
     "collapsed": false,
     "input": [
      "p_i_expr.subs(pj, p_j_expr) - pi"
     ],
     "language": "python",
     "metadata": {},
     "outputs": [
      {
       "latex": [
        "$$- \\operatorname{p}\\left(i\\right) + \\frac{\\operatorname{f}\\left(i\\right) - \\sum_{j=1}^{n} \\frac{\\operatorname{r}\\left(j,i\\right) \\left(\\operatorname{f}\\left(j\\right) - \\sum_{k=1}^{n} \\operatorname{p}\\left(k\\right) \\operatorname{r}\\left(k,j\\right)\\right)}{\\operatorname{r}\\left(j,j\\right)}}{\\operatorname{r}\\left(i,i\\right)}$$"
       ],
       "output_type": "pyout",
       "png": "[encoded data removed]",
       "prompt_number": 79,
       "text": [
        "\n",
        "                  n                                       \n",
        "               ______                                     \n",
        "               \\     `                                    \n",
        "                \\              \u239b         n               \u239e\n",
        "                 \\             \u239c        __               \u239f\n",
        "                  \\            \u239c        \\ `              \u239f\n",
        "        f(i) -     \\   r(j, i)\u22c5\u239cf(j) -   )   p(k)\u22c5r(k, j)\u239f\n",
        "                   /           \u239c        /_,              \u239f\n",
        "                  /            \u239d       k = 1             \u23a0\n",
        "                 /     \u2500\u2500\u2500\u2500\u2500\u2500\u2500\u2500\u2500\u2500\u2500\u2500\u2500\u2500\u2500\u2500\u2500\u2500\u2500\u2500\u2500\u2500\u2500\u2500\u2500\u2500\u2500\u2500\u2500\u2500\u2500\u2500\u2500\u2500\u2500\n",
        "                /                    r(j, j)              \n",
        "               /_____,                                    \n",
        "                j = 1                                     \n",
        "-p(i) + \u2500\u2500\u2500\u2500\u2500\u2500\u2500\u2500\u2500\u2500\u2500\u2500\u2500\u2500\u2500\u2500\u2500\u2500\u2500\u2500\u2500\u2500\u2500\u2500\u2500\u2500\u2500\u2500\u2500\u2500\u2500\u2500\u2500\u2500\u2500\u2500\u2500\u2500\u2500\u2500\u2500\u2500\u2500\u2500\u2500\u2500\u2500\u2500\u2500\u2500\n",
        "                             r(i, i)                      "
       ]
      }
     ],
     "prompt_number": 79
    },
    {
     "cell_type": "code",
     "collapsed": false,
     "input": [
      "_.subs(n, 2)"
     ],
     "language": "python",
     "metadata": {},
     "outputs": [
      {
       "latex": [
        "$$- \\operatorname{p}\\left(i\\right) + \\frac{\\operatorname{f}\\left(i\\right) - \\sum_{j=1}^{2} \\frac{\\operatorname{r}\\left(j,i\\right) \\left(\\operatorname{f}\\left(j\\right) - \\sum_{k=1}^{2} \\operatorname{p}\\left(k\\right) \\operatorname{r}\\left(k,j\\right)\\right)}{\\operatorname{r}\\left(j,j\\right)}}{\\operatorname{r}\\left(i,i\\right)}$$"
       ],
       "output_type": "pyout",
       "png": "[encoded data removed]",
       "prompt_number": 80,
       "text": [
        "\n",
        "                  2                                       \n",
        "               ______                                     \n",
        "               \\     `                                    \n",
        "                \\              \u239b         2               \u239e\n",
        "                 \\             \u239c        __               \u239f\n",
        "                  \\            \u239c        \\ `              \u239f\n",
        "        f(i) -     \\   r(j, i)\u22c5\u239cf(j) -   )   p(k)\u22c5r(k, j)\u239f\n",
        "                   /           \u239c        /_,              \u239f\n",
        "                  /            \u239d       k = 1             \u23a0\n",
        "                 /     \u2500\u2500\u2500\u2500\u2500\u2500\u2500\u2500\u2500\u2500\u2500\u2500\u2500\u2500\u2500\u2500\u2500\u2500\u2500\u2500\u2500\u2500\u2500\u2500\u2500\u2500\u2500\u2500\u2500\u2500\u2500\u2500\u2500\u2500\u2500\n",
        "                /                    r(j, j)              \n",
        "               /_____,                                    \n",
        "                j = 1                                     \n",
        "-p(i) + \u2500\u2500\u2500\u2500\u2500\u2500\u2500\u2500\u2500\u2500\u2500\u2500\u2500\u2500\u2500\u2500\u2500\u2500\u2500\u2500\u2500\u2500\u2500\u2500\u2500\u2500\u2500\u2500\u2500\u2500\u2500\u2500\u2500\u2500\u2500\u2500\u2500\u2500\u2500\u2500\u2500\u2500\u2500\u2500\u2500\u2500\u2500\u2500\u2500\u2500\n",
        "                             r(i, i)                      "
       ]
      }
     ],
     "prompt_number": 80
    },
    {
     "cell_type": "code",
     "collapsed": false,
     "input": [],
     "language": "python",
     "metadata": {},
     "outputs": []
    }
   ],
   "metadata": {}
  }
 ]
}