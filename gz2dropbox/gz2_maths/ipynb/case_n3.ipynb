{
 "metadata": {
  "name": "case_n3"
 },
 "nbformat": 3,
 "nbformat_minor": 0,
 "worksheets": [
  {
   "cells": [
    {
     "cell_type": "code",
     "collapsed": false,
     "input": [
      "f1, f2, f3 = symbols('f1:4', real=True, positive=True)\n",
      "p1, p2, p3 = symbols('p1:4', real=True, positive=True)\n",
      "r11, r12, r13 = symbols('r11,r12,r13', real=True, positive=True)\n",
      "r21, r22, r23 = symbols('r21,r22,r23', real=True, positive=True)\n",
      "r31, r32, r33 = symbols('r31,r32,r33', real=True, positive=True)"
     ],
     "language": "python",
     "metadata": {},
     "outputs": [],
     "prompt_number": 1
    },
    {
     "cell_type": "code",
     "collapsed": false,
     "input": [
      "p3expr = (f3 - p1 * r13 - p2 * r23) / r33 - p3\n",
      "p2expr = (f2 - p1 * r12 - p3 * r32) / r22 - p2\n",
      "p1expr = (f1 - p2 * r21 - p3 * r31) / r11 - p1\n",
      "p1expr, p2expr, p3expr"
     ],
     "language": "python",
     "metadata": {},
     "outputs": [
      {
       "latex": [
        "$$\\begin{pmatrix}- p_{1} + \\frac{f_{1} - p_{2} r_{21} - p_{3} r_{31}}{r_{11}}, & - p_{2} + \\frac{f_{2} - p_{1} r_{12} - p_{3} r_{32}}{r_{22}}, & - p_{3} + \\frac{f_{3} - p_{1} r_{13} - p_{2} r_{23}}{r_{33}}\\end{pmatrix}$$"
       ],
       "output_type": "pyout",
       "prompt_number": 2,
       "text": [
        "(\n",
        "      f\u2081 - p\u2082\u22c5r\u2082\u2081 - p\u2083\u22c5r\u2083\u2081\n",
        "-p\u2081 + \u2500\u2500\u2500\u2500\u2500\u2500\u2500\u2500\u2500\u2500\u2500\u2500\u2500\u2500\u2500\u2500\u2500\u2500\u2500\u2500\n",
        "              r\u2081\u2081         ,\n",
        " \n",
        "      f\u2082 - p\u2081\u22c5r\u2081\u2082 - p\u2083\u22c5r\u2083\u2082\n",
        "-p\u2082 + \u2500\u2500\u2500\u2500\u2500\u2500\u2500\u2500\u2500\u2500\u2500\u2500\u2500\u2500\u2500\u2500\u2500\u2500\u2500\u2500\n",
        "              r\u2082\u2082         ,\n",
        " \n",
        "      f\u2083 - p\u2081\u22c5r\u2081\u2083 - p\u2082\u22c5r\u2082\u2083\n",
        "-p\u2083 + \u2500\u2500\u2500\u2500\u2500\u2500\u2500\u2500\u2500\u2500\u2500\u2500\u2500\u2500\u2500\u2500\u2500\u2500\u2500\u2500\n",
        "              r\u2083\u2083         )"
       ]
      }
     ],
     "prompt_number": 2
    },
    {
     "cell_type": "code",
     "collapsed": false,
     "input": [
      "sols = solve((p1expr, p2expr, p3expr), (p1, p2, p3))\n",
      "p1sol = sols[p1]\n",
      "p2sol = sols[p2]\n",
      "p3sol = sols[p3]\n",
      "p1sol.collect((f1,f2,f3))"
     ],
     "language": "python",
     "metadata": {},
     "outputs": [
      {
       "latex": [
        "$$\\frac{f_{1} \\left(r_{22} r_{33} - r_{23} r_{32}\\right) + f_{2} \\left(- r_{21} r_{33} + r_{23} r_{31}\\right) + f_{3} \\left(r_{21} r_{32} - r_{22} r_{31}\\right)}{r_{11} r_{22} r_{33} - r_{11} r_{23} r_{32} - r_{12} r_{21} r_{33} + r_{12} r_{23} r_{31} + r_{13} r_{21} r_{32} - r_{13} r_{22} r_{31}}$$"
       ],
       "output_type": "pyout",
       "png": "[encoded data removed]",
       "prompt_number": 3,
       "text": [
        "\n",
        "    f\u2081\u22c5(r\u2082\u2082\u22c5r\u2083\u2083 - r\u2082\u2083\u22c5r\u2083\u2082) + f\u2082\u22c5(-r\u2082\u2081\u22c5r\u2083\u2083 + r\u2082\u2083\u22c5r\u2083\u2081) + f\u2083\u22c5(r\u2082\u2081\u22c5r\u2083\u2082 - r\u2082\u2082\u22c5r\u2083\u2081) \n",
        "\u2500\u2500\u2500\u2500\u2500\u2500\u2500\u2500\u2500\u2500\u2500\u2500\u2500\u2500\u2500\u2500\u2500\u2500\u2500\u2500\u2500\u2500\u2500\u2500\u2500\u2500\u2500\u2500\u2500\u2500\u2500\u2500\u2500\u2500\u2500\u2500\u2500\u2500\u2500\u2500\u2500\u2500\u2500\u2500\u2500\u2500\u2500\u2500\u2500\u2500\u2500\u2500\u2500\u2500\u2500\u2500\u2500\u2500\u2500\u2500\u2500\u2500\u2500\u2500\u2500\u2500\u2500\u2500\u2500\u2500\u2500\u2500\u2500\u2500\u2500\u2500\u2500\u2500\n",
        "r\u2081\u2081\u22c5r\u2082\u2082\u22c5r\u2083\u2083 - r\u2081\u2081\u22c5r\u2082\u2083\u22c5r\u2083\u2082 - r\u2081\u2082\u22c5r\u2082\u2081\u22c5r\u2083\u2083 + r\u2081\u2082\u22c5r\u2082\u2083\u22c5r\u2083\u2081 + r\u2081\u2083\u22c5r\u2082\u2081\u22c5r\u2083\u2082 - r\u2081\u2083\u22c5r\u2082\u2082\u22c5\n",
        "\n",
        "   \n",
        "\u2500\u2500\u2500\n",
        "r\u2083\u2081"
       ]
      }
     ],
     "prompt_number": 3
    },
    {
     "cell_type": "code",
     "collapsed": false,
     "input": [
      "p1sol = p1sol.subs(r11, 1-r12-r13).subs(r22, 1-r21-r23).subs(r33, 1-r31-r32)\n",
      "p2sol = p2sol.subs(r11, 1-r12-r13).subs(r22, 1-r21-r23).subs(r33, 1-r31-r32)\n",
      "p3sol = p3sol.subs(r11, 1-r12-r13).subs(r22, 1-r21-r23).subs(r33, 1-r31-r32)"
     ],
     "language": "python",
     "metadata": {},
     "outputs": [],
     "prompt_number": 4
    },
    {
     "cell_type": "code",
     "collapsed": false,
     "input": [
      "simplify(p1sol).collect((f1,f2,f3))"
     ],
     "language": "python",
     "metadata": {},
     "outputs": [
      {
       "latex": [
        "$$\\frac{f_{1} \\left(r_{21} r_{31} + r_{21} r_{32} - r_{21} + r_{23} r_{31} - r_{23} - r_{31} - r_{32} + 1\\right) + f_{2} \\left(r_{21} r_{31} + r_{21} r_{32} - r_{21} + r_{23} r_{31}\\right) + f_{3} \\left(r_{21} r_{31} + r_{21} r_{32} + r_{23} r_{31} - r_{31}\\right)}{r_{12} r_{23} + r_{12} r_{31} + r_{12} r_{32} - r_{12} + r_{13} r_{21} + r_{13} r_{23} + r_{13} r_{32} - r_{13} + r_{21} r_{31} + r_{21} r_{32} - r_{21} + r_{23} r_{31} - r_{23} - r_{31} - r_{32} + 1}$$"
       ],
       "output_type": "pyout",
       "png": "[encoded data removed]",
       "prompt_number": 5,
       "text": [
        "\n",
        "f\u2081\u22c5(r\u2082\u2081\u22c5r\u2083\u2081 + r\u2082\u2081\u22c5r\u2083\u2082 - r\u2082\u2081 + r\u2082\u2083\u22c5r\u2083\u2081 - r\u2082\u2083 - r\u2083\u2081 - r\u2083\u2082 + 1) + f\u2082\u22c5(r\u2082\u2081\u22c5r\u2083\u2081 + r\n",
        "\u2500\u2500\u2500\u2500\u2500\u2500\u2500\u2500\u2500\u2500\u2500\u2500\u2500\u2500\u2500\u2500\u2500\u2500\u2500\u2500\u2500\u2500\u2500\u2500\u2500\u2500\u2500\u2500\u2500\u2500\u2500\u2500\u2500\u2500\u2500\u2500\u2500\u2500\u2500\u2500\u2500\u2500\u2500\u2500\u2500\u2500\u2500\u2500\u2500\u2500\u2500\u2500\u2500\u2500\u2500\u2500\u2500\u2500\u2500\u2500\u2500\u2500\u2500\u2500\u2500\u2500\u2500\u2500\u2500\u2500\u2500\u2500\u2500\u2500\u2500\u2500\u2500\u2500\n",
        "       r\u2081\u2082\u22c5r\u2082\u2083 + r\u2081\u2082\u22c5r\u2083\u2081 + r\u2081\u2082\u22c5r\u2083\u2082 - r\u2081\u2082 + r\u2081\u2083\u22c5r\u2082\u2081 + r\u2081\u2083\u22c5r\u2082\u2083 + r\u2081\u2083\u22c5r\u2083\u2082 - r\u2081\u2083 +\n",
        "\n",
        "\u2082\u2081\u22c5r\u2083\u2082 - r\u2082\u2081 + r\u2082\u2083\u22c5r\u2083\u2081) + f\u2083\u22c5(r\u2082\u2081\u22c5r\u2083\u2081 + r\u2082\u2081\u22c5r\u2083\u2082 + r\u2082\u2083\u22c5r\u2083\u2081 - r\u2083\u2081)\n",
        "\u2500\u2500\u2500\u2500\u2500\u2500\u2500\u2500\u2500\u2500\u2500\u2500\u2500\u2500\u2500\u2500\u2500\u2500\u2500\u2500\u2500\u2500\u2500\u2500\u2500\u2500\u2500\u2500\u2500\u2500\u2500\u2500\u2500\u2500\u2500\u2500\u2500\u2500\u2500\u2500\u2500\u2500\u2500\u2500\u2500\u2500\u2500\u2500\u2500\u2500\u2500\u2500\u2500\u2500\u2500\u2500\u2500\u2500\u2500\u2500\u2500\u2500\u2500\u2500\n",
        " r\u2082\u2081\u22c5r\u2083\u2081 + r\u2082\u2081\u22c5r\u2083\u2082 - r\u2082\u2081 + r\u2082\u2083\u22c5r\u2083\u2081 - r\u2082\u2083 - r\u2083\u2081 - r\u2083\u2082 + 1        "
       ]
      }
     ],
     "prompt_number": 5
    },
    {
     "cell_type": "code",
     "collapsed": false,
     "input": [
      "_.subs(f1, 1-f2-f3).simplify().collect((f2,f3))"
     ],
     "language": "python",
     "metadata": {},
     "outputs": [
      {
       "latex": [
        "$$\\frac{f_{2} \\left(r_{23} + r_{31} + r_{32} -1\\right) + f_{3} \\left(r_{21} + r_{23} + r_{32} -1\\right) + r_{21} r_{31} + r_{21} r_{32} - r_{21} + r_{23} r_{31} - r_{23} - r_{31} - r_{32} + 1}{r_{12} r_{23} + r_{12} r_{31} + r_{12} r_{32} - r_{12} + r_{13} r_{21} + r_{13} r_{23} + r_{13} r_{32} - r_{13} + r_{21} r_{31} + r_{21} r_{32} - r_{21} + r_{23} r_{31} - r_{23} - r_{31} - r_{32} + 1}$$"
       ],
       "output_type": "pyout",
       "png": "[encoded data removed]",
       "prompt_number": 6,
       "text": [
        "\n",
        "         f\u2082\u22c5(r\u2082\u2083 + r\u2083\u2081 + r\u2083\u2082 - 1) + f\u2083\u22c5(r\u2082\u2081 + r\u2082\u2083 + r\u2083\u2082 - 1) + r\u2082\u2081\u22c5r\u2083\u2081 + r\u2082\u2081\u22c5r\n",
        "\u2500\u2500\u2500\u2500\u2500\u2500\u2500\u2500\u2500\u2500\u2500\u2500\u2500\u2500\u2500\u2500\u2500\u2500\u2500\u2500\u2500\u2500\u2500\u2500\u2500\u2500\u2500\u2500\u2500\u2500\u2500\u2500\u2500\u2500\u2500\u2500\u2500\u2500\u2500\u2500\u2500\u2500\u2500\u2500\u2500\u2500\u2500\u2500\u2500\u2500\u2500\u2500\u2500\u2500\u2500\u2500\u2500\u2500\u2500\u2500\u2500\u2500\u2500\u2500\u2500\u2500\u2500\u2500\u2500\u2500\u2500\u2500\u2500\u2500\u2500\u2500\u2500\u2500\n",
        "r\u2081\u2082\u22c5r\u2082\u2083 + r\u2081\u2082\u22c5r\u2083\u2081 + r\u2081\u2082\u22c5r\u2083\u2082 - r\u2081\u2082 + r\u2081\u2083\u22c5r\u2082\u2081 + r\u2081\u2083\u22c5r\u2082\u2083 + r\u2081\u2083\u22c5r\u2083\u2082 - r\u2081\u2083 + r\u2082\u2081\u22c5r\u2083\n",
        "\n",
        "\u2083\u2082 - r\u2082\u2081 + r\u2082\u2083\u22c5r\u2083\u2081 - r\u2082\u2083 - r\u2083\u2081 - r\u2083\u2082 + 1         \n",
        "\u2500\u2500\u2500\u2500\u2500\u2500\u2500\u2500\u2500\u2500\u2500\u2500\u2500\u2500\u2500\u2500\u2500\u2500\u2500\u2500\u2500\u2500\u2500\u2500\u2500\u2500\u2500\u2500\u2500\u2500\u2500\u2500\u2500\u2500\u2500\u2500\u2500\u2500\u2500\u2500\u2500\u2500\u2500\u2500\u2500\u2500\u2500\u2500\u2500\n",
        "\u2081 + r\u2082\u2081\u22c5r\u2083\u2082 - r\u2082\u2081 + r\u2082\u2083\u22c5r\u2083\u2081 - r\u2082\u2083 - r\u2083\u2081 - r\u2083\u2082 + 1"
       ]
      }
     ],
     "prompt_number": 6
    },
    {
     "cell_type": "markdown",
     "metadata": {},
     "source": [
      "Show that this is consistent with the $n$ = 2 case, when all terms involving $a_3$ are set to zero."
     ]
    },
    {
     "cell_type": "code",
     "collapsed": false,
     "input": [
      "_.subs({f3: 0, r13: 0, r23: 0, r31: 0, r32: 0})"
     ],
     "language": "python",
     "metadata": {},
     "outputs": [
      {
       "latex": [
        "$$\\frac{- f_{2} - r_{21} + 1}{- r_{12} - r_{21} + 1}$$"
       ],
       "output_type": "pyout",
       "png": "[encoded data removed]",
       "prompt_number": 7,
       "text": [
        "\n",
        "-f\u2082 - r\u2082\u2081 + 1 \n",
        "\u2500\u2500\u2500\u2500\u2500\u2500\u2500\u2500\u2500\u2500\u2500\u2500\u2500\u2500\n",
        "-r\u2081\u2082 - r\u2082\u2081 + 1"
       ]
      }
     ],
     "prompt_number": 7
    },
    {
     "cell_type": "code",
     "collapsed": false,
     "input": [
      "_.subs(f2, 1-f1)"
     ],
     "language": "python",
     "metadata": {},
     "outputs": [
      {
       "latex": [
        "$$\\frac{f_{1} - r_{21}}{- r_{12} - r_{21} + 1}$$"
       ],
       "output_type": "pyout",
       "png": "[encoded data removed]",
       "prompt_number": 8,
       "text": [
        "\n",
        "   f\u2081 - r\u2082\u2081   \n",
        "\u2500\u2500\u2500\u2500\u2500\u2500\u2500\u2500\u2500\u2500\u2500\u2500\u2500\u2500\n",
        "-r\u2081\u2082 - r\u2082\u2081 + 1"
       ]
      }
     ],
     "prompt_number": 8
    }
   ],
   "metadata": {}
  }
 ]
}