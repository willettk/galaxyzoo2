{
 "metadata": {
  "name": "case_n2alt"
 },
 "nbformat": 3,
 "nbformat_minor": 0,
 "worksheets": [
  {
   "cells": [
    {
     "cell_type": "code",
     "collapsed": false,
     "input": [
      "p1, p2, f1, f2 = symbols('p1:3,f1:3', real=True, positive=True)\n",
      "r11, r12, r21, r22 = symbols('r_11,r_12,r_21,r_22', real=True, positive=True)"
     ],
     "language": "python",
     "metadata": {},
     "outputs": [],
     "prompt_number": 117
    },
    {
     "cell_type": "code",
     "collapsed": false,
     "input": [
      "p2expr = (f2 - p1 * r12) / r22\n",
      "p1expr = (f1 - p2 * r21) / r11\n",
      "p1expr, p2expr"
     ],
     "language": "python",
     "metadata": {},
     "outputs": [
      {
       "latex": [
        "$$\\begin{pmatrix}\\frac{f_{1} - p_{2} r_{21}}{r_{11}}, & \\frac{f_{2} - p_{1} r_{12}}{r_{22}}\\end{pmatrix}$$"
       ],
       "output_type": "pyout",
       "prompt_number": 118,
       "text": [
        "(\n",
        "f\u2081 - p\u2082\u22c5r\u2082\u2081\n",
        "\u2500\u2500\u2500\u2500\u2500\u2500\u2500\u2500\u2500\u2500\u2500\n",
        "    r\u2081\u2081    , \n",
        "f\u2082 - p\u2081\u22c5r\u2081\u2082\n",
        "\u2500\u2500\u2500\u2500\u2500\u2500\u2500\u2500\u2500\u2500\u2500\n",
        "    r\u2082\u2082    )"
       ]
      }
     ],
     "prompt_number": 118
    },
    {
     "cell_type": "code",
     "collapsed": false,
     "input": [
      "p1expr.subs(p2, p2expr) - p1"
     ],
     "language": "python",
     "metadata": {},
     "outputs": [
      {
       "latex": [
        "$$- p_{1} + \\frac{f_{1} - \\frac{r_{21} \\left(f_{2} - p_{1} r_{12}\\right)}{r_{22}}}{r_{11}}$$"
       ],
       "output_type": "pyout",
       "png": "[encoded data removed]",
       "prompt_number": 119,
       "text": [
        "\n",
        "           r\u2082\u2081\u22c5(f\u2082 - p\u2081\u22c5r\u2081\u2082)\n",
        "      f\u2081 - \u2500\u2500\u2500\u2500\u2500\u2500\u2500\u2500\u2500\u2500\u2500\u2500\u2500\u2500\u2500\u2500\u2500\n",
        "                  r\u2082\u2082       \n",
        "-p\u2081 + \u2500\u2500\u2500\u2500\u2500\u2500\u2500\u2500\u2500\u2500\u2500\u2500\u2500\u2500\u2500\u2500\u2500\u2500\u2500\u2500\u2500\u2500\n",
        "               r\u2081\u2081          "
       ]
      }
     ],
     "prompt_number": 119
    },
    {
     "cell_type": "code",
     "collapsed": false,
     "input": [
      "solve(_, p1)[0]"
     ],
     "language": "python",
     "metadata": {},
     "outputs": [
      {
       "latex": [
        "$$\\frac{f_{1} r_{22} - f_{2} r_{21}}{r_{11} r_{22} - r_{12} r_{21}}$$"
       ],
       "output_type": "pyout",
       "png": "[encoded data removed]",
       "prompt_number": 120,
       "text": [
        "\n",
        " f\u2081\u22c5r\u2082\u2082 - f\u2082\u22c5r\u2082\u2081 \n",
        "\u2500\u2500\u2500\u2500\u2500\u2500\u2500\u2500\u2500\u2500\u2500\u2500\u2500\u2500\u2500\u2500\u2500\n",
        "r\u2081\u2081\u22c5r\u2082\u2082 - r\u2081\u2082\u22c5r\u2082\u2081"
       ]
      }
     ],
     "prompt_number": 120
    },
    {
     "cell_type": "code",
     "collapsed": false,
     "input": [
      "_.subs(r11, 1-r12).subs(r22, 1-r21)"
     ],
     "language": "python",
     "metadata": {},
     "outputs": [
      {
       "latex": [
        "$$\\frac{f_{1} \\left(- r_{21} + 1\\right) - f_{2} r_{21}}{- r_{12} r_{21} + \\left(- r_{12} + 1\\right) \\left(- r_{21} + 1\\right)}$$"
       ],
       "output_type": "pyout",
       "png": "[encoded data removed]",
       "prompt_number": 121,
       "text": [
        "\n",
        "     f\u2081\u22c5(-r\u2082\u2081 + 1) - f\u2082\u22c5r\u2082\u2081     \n",
        "\u2500\u2500\u2500\u2500\u2500\u2500\u2500\u2500\u2500\u2500\u2500\u2500\u2500\u2500\u2500\u2500\u2500\u2500\u2500\u2500\u2500\u2500\u2500\u2500\u2500\u2500\u2500\u2500\u2500\u2500\u2500\u2500\n",
        "-r\u2081\u2082\u22c5r\u2082\u2081 + (-r\u2081\u2082 + 1)\u22c5(-r\u2082\u2081 + 1)"
       ]
      }
     ],
     "prompt_number": 121
    },
    {
     "cell_type": "code",
     "collapsed": false,
     "input": [
      "simplify(_)"
     ],
     "language": "python",
     "metadata": {},
     "outputs": [
      {
       "latex": [
        "$$\\frac{f_{1} r_{21} - f_{1} + f_{2} r_{21}}{r_{12} + r_{21} -1}$$"
       ],
       "output_type": "pyout",
       "png": "[encoded data removed]",
       "prompt_number": 122,
       "text": [
        "\n",
        "f\u2081\u22c5r\u2082\u2081 - f\u2081 + f\u2082\u22c5r\u2082\u2081\n",
        "\u2500\u2500\u2500\u2500\u2500\u2500\u2500\u2500\u2500\u2500\u2500\u2500\u2500\u2500\u2500\u2500\u2500\u2500\u2500\u2500\n",
        "   r\u2081\u2082 + r\u2082\u2081 - 1    "
       ]
      }
     ],
     "prompt_number": 122
    },
    {
     "cell_type": "code",
     "collapsed": false,
     "input": [
      "_.subs(f2, 1-f1)\n"
     ],
     "language": "python",
     "metadata": {},
     "outputs": [
      {
       "latex": [
        "$$\\frac{f_{1} r_{21} - f_{1} + r_{21} \\left(- f_{1} + 1\\right)}{r_{12} + r_{21} -1}$$"
       ],
       "output_type": "pyout",
       "png": "[encoded data removed]",
       "prompt_number": 123,
       "text": [
        "\n",
        "f\u2081\u22c5r\u2082\u2081 - f\u2081 + r\u2082\u2081\u22c5(-f\u2081 + 1)\n",
        "\u2500\u2500\u2500\u2500\u2500\u2500\u2500\u2500\u2500\u2500\u2500\u2500\u2500\u2500\u2500\u2500\u2500\u2500\u2500\u2500\u2500\u2500\u2500\u2500\u2500\u2500\u2500\n",
        "       r\u2081\u2082 + r\u2082\u2081 - 1       "
       ]
      }
     ],
     "prompt_number": 123
    },
    {
     "cell_type": "code",
     "collapsed": false,
     "input": [
      "simplify(_)"
     ],
     "language": "python",
     "metadata": {},
     "outputs": [
      {
       "latex": [
        "$$\\frac{- f_{1} + r_{21}}{r_{12} + r_{21} -1}$$"
       ],
       "output_type": "pyout",
       "png": "[encoded data removed]",
       "prompt_number": 124,
       "text": [
        "\n",
        "  -f\u2081 + r\u2082\u2081  \n",
        "\u2500\u2500\u2500\u2500\u2500\u2500\u2500\u2500\u2500\u2500\u2500\u2500\u2500\n",
        "r\u2081\u2082 + r\u2082\u2081 - 1"
       ]
      }
     ],
     "prompt_number": 124
    },
    {
     "cell_type": "code",
     "collapsed": false,
     "input": [],
     "language": "python",
     "metadata": {},
     "outputs": [],
     "prompt_number": 124
    }
   ],
   "metadata": {}
  }
 ]
}