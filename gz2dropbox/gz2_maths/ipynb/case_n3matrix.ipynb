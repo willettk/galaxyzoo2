{
 "metadata": {
  "name": "case_n3matrix"
 },
 "nbformat": 3,
 "nbformat_minor": 0,
 "worksheets": [
  {
   "cells": [
    {
     "cell_type": "code",
     "collapsed": false,
     "input": [
      "r1 = symbols('r11,r12,r13', real=True, positive=True)\n",
      "r2 = symbols('r21,r22,r23', real=True, positive=True)\n",
      "r3 = symbols('r31,r32,r33', real=True, positive=True)\n",
      "r11, r12, r13 = r1\n",
      "r21, r22, r23 = r2\n",
      "r31, r32, r33 = r3\n",
      "r_ij = (r1, r2, r3)\n",
      "f_i = symbols('f1:4', real=True, positive=True)"
     ],
     "language": "python",
     "metadata": {},
     "outputs": [],
     "prompt_number": 1
    },
    {
     "cell_type": "code",
     "collapsed": false,
     "input": [
      "# n = 3\n",
      "# f_i = symbols('f1:%i'%(n+1), real=True, positive=True)\n",
      "# r_ij = [[symbols('r%i%i'%(i, j), real=True, positive=True) for j in range(1,n+1)] for i in range(1,n+1)]"
     ],
     "language": "python",
     "metadata": {},
     "outputs": [],
     "prompt_number": 29
    },
    {
     "cell_type": "code",
     "collapsed": false,
     "input": [
      "f = Matrix(f_i)\n",
      "r = Matrix(r_ij)\n",
      "rT = r.transpose()"
     ],
     "language": "python",
     "metadata": {},
     "outputs": [],
     "prompt_number": 30
    },
    {
     "cell_type": "code",
     "collapsed": false,
     "input": [
      "def clean(p):\n",
      "    for i, pi in enumerate(p):\n",
      "        p[i] = simplify(pi).collect(f_i)\n",
      "    return p"
     ],
     "language": "python",
     "metadata": {},
     "outputs": [],
     "prompt_number": 31
    },
    {
     "cell_type": "code",
     "collapsed": false,
     "input": [
      "p = rT.LUsolve(f)\n",
      "clean(p)"
     ],
     "language": "python",
     "metadata": {},
     "outputs": [
      {
       "latex": [
        "$$\\left(\\begin{smallmatrix}\\frac{f_{1} \\left(r_{22} r_{33} - r_{23} r_{32}\\right) + f_{2} \\left(- r_{21} r_{33} + r_{23} r_{31}\\right) + f_{3} \\left(r_{21} r_{32} - r_{22} r_{31}\\right)}{r_{11} r_{22} r_{33} - r_{11} r_{23} r_{32} - r_{12} r_{21} r_{33} + r_{12} r_{23} r_{31} + r_{13} r_{21} r_{32} - r_{13} r_{22} r_{31}}\\\\\\frac{f_{1} \\left(- r_{12} r_{33} + r_{13} r_{32}\\right) + f_{2} \\left(r_{11} r_{33} - r_{13} r_{31}\\right) + f_{3} \\left(- r_{11} r_{32} + r_{12} r_{31}\\right)}{r_{11} r_{22} r_{33} - r_{11} r_{23} r_{32} - r_{12} r_{21} r_{33} + r_{12} r_{23} r_{31} + r_{13} r_{21} r_{32} - r_{13} r_{22} r_{31}}\\\\\\frac{f_{1} \\left(r_{12} r_{23} - r_{13} r_{22}\\right) + f_{2} \\left(- r_{11} r_{23} + r_{13} r_{21}\\right) + f_{3} \\left(r_{11} r_{22} - r_{12} r_{21}\\right)}{r_{11} r_{22} r_{33} - r_{11} r_{23} r_{32} - r_{12} r_{21} r_{33} + r_{12} r_{23} r_{31} + r_{13} r_{21} r_{32} - r_{13} r_{22} r_{31}}\\end{smallmatrix}\\right)$$"
       ],
       "output_type": "pyout",
       "png": "[encoded data removed]",
       "prompt_number": 32,
       "text": [
        "\n",
        "\u23a1    f\u2081\u22c5(r\u2082\u2082\u22c5r\u2083\u2083 - r\u2082\u2083\u22c5r\u2083\u2082) + f\u2082\u22c5(-r\u2082\u2081\u22c5r\u2083\u2083 + r\u2082\u2083\u22c5r\u2083\u2081) + f\u2083\u22c5(r\u2082\u2081\u22c5r\u2083\u2082 - r\u2082\u2082\u22c5r\u2083\u2081)\n",
        "\u23a2\u2500\u2500\u2500\u2500\u2500\u2500\u2500\u2500\u2500\u2500\u2500\u2500\u2500\u2500\u2500\u2500\u2500\u2500\u2500\u2500\u2500\u2500\u2500\u2500\u2500\u2500\u2500\u2500\u2500\u2500\u2500\u2500\u2500\u2500\u2500\u2500\u2500\u2500\u2500\u2500\u2500\u2500\u2500\u2500\u2500\u2500\u2500\u2500\u2500\u2500\u2500\u2500\u2500\u2500\u2500\u2500\u2500\u2500\u2500\u2500\u2500\u2500\u2500\u2500\u2500\u2500\u2500\u2500\u2500\u2500\u2500\u2500\u2500\u2500\u2500\u2500\u2500\n",
        "\u23a2r\u2081\u2081\u22c5r\u2082\u2082\u22c5r\u2083\u2083 - r\u2081\u2081\u22c5r\u2082\u2083\u22c5r\u2083\u2082 - r\u2081\u2082\u22c5r\u2082\u2081\u22c5r\u2083\u2083 + r\u2081\u2082\u22c5r\u2082\u2083\u22c5r\u2083\u2081 + r\u2081\u2083\u22c5r\u2082\u2081\u22c5r\u2083\u2082 - r\u2081\u2083\u22c5r\u2082\u2082\n",
        "\u23a2                                                                             \n",
        "\u23a2    f\u2081\u22c5(-r\u2081\u2082\u22c5r\u2083\u2083 + r\u2081\u2083\u22c5r\u2083\u2082) + f\u2082\u22c5(r\u2081\u2081\u22c5r\u2083\u2083 - r\u2081\u2083\u22c5r\u2083\u2081) + f\u2083\u22c5(-r\u2081\u2081\u22c5r\u2083\u2082 + r\u2081\u2082\u22c5r\u2083\u2081\n",
        "\u23a2\u2500\u2500\u2500\u2500\u2500\u2500\u2500\u2500\u2500\u2500\u2500\u2500\u2500\u2500\u2500\u2500\u2500\u2500\u2500\u2500\u2500\u2500\u2500\u2500\u2500\u2500\u2500\u2500\u2500\u2500\u2500\u2500\u2500\u2500\u2500\u2500\u2500\u2500\u2500\u2500\u2500\u2500\u2500\u2500\u2500\u2500\u2500\u2500\u2500\u2500\u2500\u2500\u2500\u2500\u2500\u2500\u2500\u2500\u2500\u2500\u2500\u2500\u2500\u2500\u2500\u2500\u2500\u2500\u2500\u2500\u2500\u2500\u2500\u2500\u2500\u2500\u2500\n",
        "\u23a2r\u2081\u2081\u22c5r\u2082\u2082\u22c5r\u2083\u2083 - r\u2081\u2081\u22c5r\u2082\u2083\u22c5r\u2083\u2082 - r\u2081\u2082\u22c5r\u2082\u2081\u22c5r\u2083\u2083 + r\u2081\u2082\u22c5r\u2082\u2083\u22c5r\u2083\u2081 + r\u2081\u2083\u22c5r\u2082\u2081\u22c5r\u2083\u2082 - r\u2081\u2083\u22c5r\u2082\u2082\n",
        "\u23a2                                                                             \n",
        "\u23a2    f\u2081\u22c5(r\u2081\u2082\u22c5r\u2082\u2083 - r\u2081\u2083\u22c5r\u2082\u2082) + f\u2082\u22c5(-r\u2081\u2081\u22c5r\u2082\u2083 + r\u2081\u2083\u22c5r\u2082\u2081) + f\u2083\u22c5(r\u2081\u2081\u22c5r\u2082\u2082 - r\u2081\u2082\u22c5r\u2082\u2081)\n",
        "\u23a2\u2500\u2500\u2500\u2500\u2500\u2500\u2500\u2500\u2500\u2500\u2500\u2500\u2500\u2500\u2500\u2500\u2500\u2500\u2500\u2500\u2500\u2500\u2500\u2500\u2500\u2500\u2500\u2500\u2500\u2500\u2500\u2500\u2500\u2500\u2500\u2500\u2500\u2500\u2500\u2500\u2500\u2500\u2500\u2500\u2500\u2500\u2500\u2500\u2500\u2500\u2500\u2500\u2500\u2500\u2500\u2500\u2500\u2500\u2500\u2500\u2500\u2500\u2500\u2500\u2500\u2500\u2500\u2500\u2500\u2500\u2500\u2500\u2500\u2500\u2500\u2500\u2500\n",
        "\u23a3r\u2081\u2081\u22c5r\u2082\u2082\u22c5r\u2083\u2083 - r\u2081\u2081\u22c5r\u2082\u2083\u22c5r\u2083\u2082 - r\u2081\u2082\u22c5r\u2082\u2081\u22c5r\u2083\u2083 + r\u2081\u2082\u22c5r\u2082\u2083\u22c5r\u2083\u2081 + r\u2081\u2083\u22c5r\u2082\u2081\u22c5r\u2083\u2082 - r\u2081\u2083\u22c5r\u2082\u2082\n",
        "\n",
        "    \u23a4\n",
        "\u2500\u2500\u2500\u2500\u23a5\n",
        "\u22c5r\u2083\u2081\u23a5\n",
        "    \u23a5\n",
        ")   \u23a5\n",
        "\u2500\u2500\u2500\u2500\u23a5\n",
        "\u22c5r\u2083\u2081\u23a5\n",
        "    \u23a5\n",
        "    \u23a5\n",
        "\u2500\u2500\u2500\u2500\u23a5\n",
        "\u22c5r\u2083\u2081\u23a6"
       ]
      }
     ],
     "prompt_number": 32
    },
    {
     "cell_type": "code",
     "collapsed": false,
     "input": [
      "# D = Symbol('D')\n",
      "# p = p.subs(r.det(), D)\n",
      "# p\n",
      "D = r.det()"
     ],
     "language": "python",
     "metadata": {},
     "outputs": [],
     "prompt_number": 33
    },
    {
     "cell_type": "markdown",
     "metadata": {},
     "source": [
      "Compare to $p_1$ from explicit solution:"
     ]
    },
    {
     "cell_type": "code",
     "collapsed": false,
     "input": [
      "x = (f1*(r22*r33 - r23*r32) + f2*(-r21*r33 + r23*r31) + f3*(r21*r32 - r22*r31))/D\n",
      "x == p[0]"
     ],
     "language": "python",
     "metadata": {},
     "outputs": [
      {
       "output_type": "pyout",
       "png": "[encoded data removed]",
       "prompt_number": 34,
       "text": [
        "True"
       ]
      }
     ],
     "prompt_number": 34
    },
    {
     "cell_type": "code",
     "collapsed": false,
     "input": [
      "p = p.subs(r11, 1-r12-r13)\n",
      "clean(p)\n",
      "p = p.subs(r22, 1-r21-r23)\n",
      "clean(p)\n",
      "p = p.subs(r33, 1-r31-r32)\n",
      "clean(p)"
     ],
     "language": "python",
     "metadata": {},
     "outputs": [
      {
       "latex": [
        "$$\\left(\\begin{smallmatrix}\\frac{f_{1} \\left(- r_{21} - r_{23} - r_{32} + 1\\right) + f_{2} \\left(- r_{21} + r_{31}\\right) + r_{21} r_{31} + r_{21} r_{32} + r_{23} r_{31} - r_{31}}{r_{12} r_{23} + r_{12} r_{31} + r_{12} r_{32} - r_{12} + r_{13} r_{21} + r_{13} r_{23} + r_{13} r_{32} - r_{13} + r_{21} r_{31} + r_{21} r_{32} - r_{21} + r_{23} r_{31} - r_{23} - r_{31} - r_{32} + 1}\\\\\\frac{f_{1} \\left(- r_{12} + r_{32}\\right) + f_{2} \\left(- r_{12} - r_{13} - r_{31} + 1\\right) + r_{12} r_{31} + r_{12} r_{32} + r_{13} r_{32} - r_{32}}{r_{12} r_{23} + r_{12} r_{31} + r_{12} r_{32} - r_{12} + r_{13} r_{21} + r_{13} r_{23} + r_{13} r_{32} - r_{13} + r_{21} r_{31} + r_{21} r_{32} - r_{21} + r_{23} r_{31} - r_{23} - r_{31} - r_{32} + 1}\\\\\\frac{f_{1} \\left(r_{12} + r_{21} + r_{23} -1\\right) + f_{2} \\left(r_{12} + r_{13} + r_{21} -1\\right) + r_{12} r_{23} - r_{12} + r_{13} r_{21} + r_{13} r_{23} - r_{13} - r_{21} - r_{23} + 1}{r_{12} r_{23} + r_{12} r_{31} + r_{12} r_{32} - r_{12} + r_{13} r_{21} + r_{13} r_{23} + r_{13} r_{32} - r_{13} + r_{21} r_{31} + r_{21} r_{32} - r_{21} + r_{23} r_{31} - r_{23} - r_{31} - r_{32} + 1}\\end{smallmatrix}\\right)$$"
       ],
       "output_type": "pyout",
       "png": "[encoded data removed]",
       "prompt_number": 37,
       "text": [
        "\n",
        "\u23a1                        f\u2081\u22c5(-r\u2082\u2081 - r\u2082\u2083 - r\u2083\u2082 + 1) + f\u2082\u22c5(-r\u2082\u2081 + r\u2083\u2081) + r\u2082\u2081\u22c5r\u2083\u2081\n",
        "\u23a2\u2500\u2500\u2500\u2500\u2500\u2500\u2500\u2500\u2500\u2500\u2500\u2500\u2500\u2500\u2500\u2500\u2500\u2500\u2500\u2500\u2500\u2500\u2500\u2500\u2500\u2500\u2500\u2500\u2500\u2500\u2500\u2500\u2500\u2500\u2500\u2500\u2500\u2500\u2500\u2500\u2500\u2500\u2500\u2500\u2500\u2500\u2500\u2500\u2500\u2500\u2500\u2500\u2500\u2500\u2500\u2500\u2500\u2500\u2500\u2500\u2500\u2500\u2500\u2500\u2500\u2500\u2500\u2500\u2500\u2500\u2500\u2500\u2500\u2500\u2500\u2500\u2500\n",
        "\u23a2r\u2081\u2082\u22c5r\u2082\u2083 + r\u2081\u2082\u22c5r\u2083\u2081 + r\u2081\u2082\u22c5r\u2083\u2082 - r\u2081\u2082 + r\u2081\u2083\u22c5r\u2082\u2081 + r\u2081\u2083\u22c5r\u2082\u2083 + r\u2081\u2083\u22c5r\u2083\u2082 - r\u2081\u2083 + r\u2082\u2081\u22c5r\n",
        "\u23a2                                                                             \n",
        "\u23a2                        f\u2081\u22c5(-r\u2081\u2082 + r\u2083\u2082) + f\u2082\u22c5(-r\u2081\u2082 - r\u2081\u2083 - r\u2083\u2081 + 1) + r\u2081\u2082\u22c5r\u2083\u2081\n",
        "\u23a2\u2500\u2500\u2500\u2500\u2500\u2500\u2500\u2500\u2500\u2500\u2500\u2500\u2500\u2500\u2500\u2500\u2500\u2500\u2500\u2500\u2500\u2500\u2500\u2500\u2500\u2500\u2500\u2500\u2500\u2500\u2500\u2500\u2500\u2500\u2500\u2500\u2500\u2500\u2500\u2500\u2500\u2500\u2500\u2500\u2500\u2500\u2500\u2500\u2500\u2500\u2500\u2500\u2500\u2500\u2500\u2500\u2500\u2500\u2500\u2500\u2500\u2500\u2500\u2500\u2500\u2500\u2500\u2500\u2500\u2500\u2500\u2500\u2500\u2500\u2500\u2500\u2500\n",
        "\u23a2r\u2081\u2082\u22c5r\u2082\u2083 + r\u2081\u2082\u22c5r\u2083\u2081 + r\u2081\u2082\u22c5r\u2083\u2082 - r\u2081\u2082 + r\u2081\u2083\u22c5r\u2082\u2081 + r\u2081\u2083\u22c5r\u2082\u2083 + r\u2081\u2083\u22c5r\u2083\u2082 - r\u2081\u2083 + r\u2082\u2081\u22c5r\n",
        "\u23a2                                                                             \n",
        "\u23a2         f\u2081\u22c5(r\u2081\u2082 + r\u2082\u2081 + r\u2082\u2083 - 1) + f\u2082\u22c5(r\u2081\u2082 + r\u2081\u2083 + r\u2082\u2081 - 1) + r\u2081\u2082\u22c5r\u2082\u2083 - r\u2081\u2082 \n",
        "\u23a2\u2500\u2500\u2500\u2500\u2500\u2500\u2500\u2500\u2500\u2500\u2500\u2500\u2500\u2500\u2500\u2500\u2500\u2500\u2500\u2500\u2500\u2500\u2500\u2500\u2500\u2500\u2500\u2500\u2500\u2500\u2500\u2500\u2500\u2500\u2500\u2500\u2500\u2500\u2500\u2500\u2500\u2500\u2500\u2500\u2500\u2500\u2500\u2500\u2500\u2500\u2500\u2500\u2500\u2500\u2500\u2500\u2500\u2500\u2500\u2500\u2500\u2500\u2500\u2500\u2500\u2500\u2500\u2500\u2500\u2500\u2500\u2500\u2500\u2500\u2500\u2500\u2500\n",
        "\u23a3r\u2081\u2082\u22c5r\u2082\u2083 + r\u2081\u2082\u22c5r\u2083\u2081 + r\u2081\u2082\u22c5r\u2083\u2082 - r\u2081\u2082 + r\u2081\u2083\u22c5r\u2082\u2081 + r\u2081\u2083\u22c5r\u2082\u2083 + r\u2081\u2083\u22c5r\u2083\u2082 - r\u2081\u2083 + r\u2082\u2081\u22c5r\n",
        "\n",
        " + r\u2082\u2081\u22c5r\u2083\u2082 + r\u2082\u2083\u22c5r\u2083\u2081 - r\u2083\u2081                        \u23a4\n",
        "\u2500\u2500\u2500\u2500\u2500\u2500\u2500\u2500\u2500\u2500\u2500\u2500\u2500\u2500\u2500\u2500\u2500\u2500\u2500\u2500\u2500\u2500\u2500\u2500\u2500\u2500\u2500\u2500\u2500\u2500\u2500\u2500\u2500\u2500\u2500\u2500\u2500\u2500\u2500\u2500\u2500\u2500\u2500\u2500\u2500\u2500\u2500\u2500\u2500\u2500\u23a5\n",
        "\u2083\u2081 + r\u2082\u2081\u22c5r\u2083\u2082 - r\u2082\u2081 + r\u2082\u2083\u22c5r\u2083\u2081 - r\u2082\u2083 - r\u2083\u2081 - r\u2083\u2082 + 1\u23a5\n",
        "                                                  \u23a5\n",
        " + r\u2081\u2082\u22c5r\u2083\u2082 + r\u2081\u2083\u22c5r\u2083\u2082 - r\u2083\u2082                        \u23a5\n",
        "\u2500\u2500\u2500\u2500\u2500\u2500\u2500\u2500\u2500\u2500\u2500\u2500\u2500\u2500\u2500\u2500\u2500\u2500\u2500\u2500\u2500\u2500\u2500\u2500\u2500\u2500\u2500\u2500\u2500\u2500\u2500\u2500\u2500\u2500\u2500\u2500\u2500\u2500\u2500\u2500\u2500\u2500\u2500\u2500\u2500\u2500\u2500\u2500\u2500\u2500\u23a5\n",
        "\u2083\u2081 + r\u2082\u2081\u22c5r\u2083\u2082 - r\u2082\u2081 + r\u2082\u2083\u22c5r\u2083\u2081 - r\u2082\u2083 - r\u2083\u2081 - r\u2083\u2082 + 1\u23a5\n",
        "                                                  \u23a5\n",
        "+ r\u2081\u2083\u22c5r\u2082\u2081 + r\u2081\u2083\u22c5r\u2082\u2083 - r\u2081\u2083 - r\u2082\u2081 - r\u2082\u2083 + 1         \u23a5\n",
        "\u2500\u2500\u2500\u2500\u2500\u2500\u2500\u2500\u2500\u2500\u2500\u2500\u2500\u2500\u2500\u2500\u2500\u2500\u2500\u2500\u2500\u2500\u2500\u2500\u2500\u2500\u2500\u2500\u2500\u2500\u2500\u2500\u2500\u2500\u2500\u2500\u2500\u2500\u2500\u2500\u2500\u2500\u2500\u2500\u2500\u2500\u2500\u2500\u2500\u2500\u23a5\n",
        "\u2083\u2081 + r\u2082\u2081\u22c5r\u2083\u2082 - r\u2082\u2081 + r\u2082\u2083\u22c5r\u2083\u2081 - r\u2082\u2083 - r\u2083\u2081 - r\u2083\u2082 + 1\u23a6"
       ]
      }
     ],
     "prompt_number": 37
    },
    {
     "cell_type": "code",
     "collapsed": false,
     "input": [
      "p = p.subs(f3, 1-f1-f2)\n",
      "clean(p)"
     ],
     "language": "python",
     "metadata": {},
     "outputs": [
      {
       "latex": [
        "$$\\left(\\begin{smallmatrix}\\frac{f_{1} \\left(- r_{21} - r_{23} - r_{32} + 1\\right) + f_{2} \\left(- r_{21} + r_{31}\\right) + r_{21} r_{31} + r_{21} r_{32} + r_{23} r_{31} - r_{31}}{r_{12} r_{23} + r_{12} r_{31} + r_{12} r_{32} - r_{12} + r_{13} r_{21} + r_{13} r_{23} + r_{13} r_{32} - r_{13} + r_{21} r_{31} + r_{21} r_{32} - r_{21} + r_{23} r_{31} - r_{23} - r_{31} - r_{32} + 1}\\\\\\frac{f_{1} \\left(- r_{12} + r_{32}\\right) + f_{2} \\left(- r_{12} - r_{13} - r_{31} + 1\\right) + r_{12} r_{31} + r_{12} r_{32} + r_{13} r_{32} - r_{32}}{r_{12} r_{23} + r_{12} r_{31} + r_{12} r_{32} - r_{12} + r_{13} r_{21} + r_{13} r_{23} + r_{13} r_{32} - r_{13} + r_{21} r_{31} + r_{21} r_{32} - r_{21} + r_{23} r_{31} - r_{23} - r_{31} - r_{32} + 1}\\\\\\frac{f_{1} \\left(r_{12} + r_{21} + r_{23} -1\\right) + f_{2} \\left(r_{12} + r_{13} + r_{21} -1\\right) + r_{12} r_{23} - r_{12} + r_{13} r_{21} + r_{13} r_{23} - r_{13} - r_{21} - r_{23} + 1}{r_{12} r_{23} + r_{12} r_{31} + r_{12} r_{32} - r_{12} + r_{13} r_{21} + r_{13} r_{23} + r_{13} r_{32} - r_{13} + r_{21} r_{31} + r_{21} r_{32} - r_{21} + r_{23} r_{31} - r_{23} - r_{31} - r_{32} + 1}\\end{smallmatrix}\\right)$$"
       ],
       "output_type": "pyout",
       "png": "[encoded data removed]",
       "prompt_number": 38,
       "text": [
        "\n",
        "\u23a1                        f\u2081\u22c5(-r\u2082\u2081 - r\u2082\u2083 - r\u2083\u2082 + 1) + f\u2082\u22c5(-r\u2082\u2081 + r\u2083\u2081) + r\u2082\u2081\u22c5r\u2083\u2081\n",
        "\u23a2\u2500\u2500\u2500\u2500\u2500\u2500\u2500\u2500\u2500\u2500\u2500\u2500\u2500\u2500\u2500\u2500\u2500\u2500\u2500\u2500\u2500\u2500\u2500\u2500\u2500\u2500\u2500\u2500\u2500\u2500\u2500\u2500\u2500\u2500\u2500\u2500\u2500\u2500\u2500\u2500\u2500\u2500\u2500\u2500\u2500\u2500\u2500\u2500\u2500\u2500\u2500\u2500\u2500\u2500\u2500\u2500\u2500\u2500\u2500\u2500\u2500\u2500\u2500\u2500\u2500\u2500\u2500\u2500\u2500\u2500\u2500\u2500\u2500\u2500\u2500\u2500\u2500\n",
        "\u23a2r\u2081\u2082\u22c5r\u2082\u2083 + r\u2081\u2082\u22c5r\u2083\u2081 + r\u2081\u2082\u22c5r\u2083\u2082 - r\u2081\u2082 + r\u2081\u2083\u22c5r\u2082\u2081 + r\u2081\u2083\u22c5r\u2082\u2083 + r\u2081\u2083\u22c5r\u2083\u2082 - r\u2081\u2083 + r\u2082\u2081\u22c5r\n",
        "\u23a2                                                                             \n",
        "\u23a2                        f\u2081\u22c5(-r\u2081\u2082 + r\u2083\u2082) + f\u2082\u22c5(-r\u2081\u2082 - r\u2081\u2083 - r\u2083\u2081 + 1) + r\u2081\u2082\u22c5r\u2083\u2081\n",
        "\u23a2\u2500\u2500\u2500\u2500\u2500\u2500\u2500\u2500\u2500\u2500\u2500\u2500\u2500\u2500\u2500\u2500\u2500\u2500\u2500\u2500\u2500\u2500\u2500\u2500\u2500\u2500\u2500\u2500\u2500\u2500\u2500\u2500\u2500\u2500\u2500\u2500\u2500\u2500\u2500\u2500\u2500\u2500\u2500\u2500\u2500\u2500\u2500\u2500\u2500\u2500\u2500\u2500\u2500\u2500\u2500\u2500\u2500\u2500\u2500\u2500\u2500\u2500\u2500\u2500\u2500\u2500\u2500\u2500\u2500\u2500\u2500\u2500\u2500\u2500\u2500\u2500\u2500\n",
        "\u23a2r\u2081\u2082\u22c5r\u2082\u2083 + r\u2081\u2082\u22c5r\u2083\u2081 + r\u2081\u2082\u22c5r\u2083\u2082 - r\u2081\u2082 + r\u2081\u2083\u22c5r\u2082\u2081 + r\u2081\u2083\u22c5r\u2082\u2083 + r\u2081\u2083\u22c5r\u2083\u2082 - r\u2081\u2083 + r\u2082\u2081\u22c5r\n",
        "\u23a2                                                                             \n",
        "\u23a2         f\u2081\u22c5(r\u2081\u2082 + r\u2082\u2081 + r\u2082\u2083 - 1) + f\u2082\u22c5(r\u2081\u2082 + r\u2081\u2083 + r\u2082\u2081 - 1) + r\u2081\u2082\u22c5r\u2082\u2083 - r\u2081\u2082 \n",
        "\u23a2\u2500\u2500\u2500\u2500\u2500\u2500\u2500\u2500\u2500\u2500\u2500\u2500\u2500\u2500\u2500\u2500\u2500\u2500\u2500\u2500\u2500\u2500\u2500\u2500\u2500\u2500\u2500\u2500\u2500\u2500\u2500\u2500\u2500\u2500\u2500\u2500\u2500\u2500\u2500\u2500\u2500\u2500\u2500\u2500\u2500\u2500\u2500\u2500\u2500\u2500\u2500\u2500\u2500\u2500\u2500\u2500\u2500\u2500\u2500\u2500\u2500\u2500\u2500\u2500\u2500\u2500\u2500\u2500\u2500\u2500\u2500\u2500\u2500\u2500\u2500\u2500\u2500\n",
        "\u23a3r\u2081\u2082\u22c5r\u2082\u2083 + r\u2081\u2082\u22c5r\u2083\u2081 + r\u2081\u2082\u22c5r\u2083\u2082 - r\u2081\u2082 + r\u2081\u2083\u22c5r\u2082\u2081 + r\u2081\u2083\u22c5r\u2082\u2083 + r\u2081\u2083\u22c5r\u2083\u2082 - r\u2081\u2083 + r\u2082\u2081\u22c5r\n",
        "\n",
        " + r\u2082\u2081\u22c5r\u2083\u2082 + r\u2082\u2083\u22c5r\u2083\u2081 - r\u2083\u2081                        \u23a4\n",
        "\u2500\u2500\u2500\u2500\u2500\u2500\u2500\u2500\u2500\u2500\u2500\u2500\u2500\u2500\u2500\u2500\u2500\u2500\u2500\u2500\u2500\u2500\u2500\u2500\u2500\u2500\u2500\u2500\u2500\u2500\u2500\u2500\u2500\u2500\u2500\u2500\u2500\u2500\u2500\u2500\u2500\u2500\u2500\u2500\u2500\u2500\u2500\u2500\u2500\u2500\u23a5\n",
        "\u2083\u2081 + r\u2082\u2081\u22c5r\u2083\u2082 - r\u2082\u2081 + r\u2082\u2083\u22c5r\u2083\u2081 - r\u2082\u2083 - r\u2083\u2081 - r\u2083\u2082 + 1\u23a5\n",
        "                                                  \u23a5\n",
        " + r\u2081\u2082\u22c5r\u2083\u2082 + r\u2081\u2083\u22c5r\u2083\u2082 - r\u2083\u2082                        \u23a5\n",
        "\u2500\u2500\u2500\u2500\u2500\u2500\u2500\u2500\u2500\u2500\u2500\u2500\u2500\u2500\u2500\u2500\u2500\u2500\u2500\u2500\u2500\u2500\u2500\u2500\u2500\u2500\u2500\u2500\u2500\u2500\u2500\u2500\u2500\u2500\u2500\u2500\u2500\u2500\u2500\u2500\u2500\u2500\u2500\u2500\u2500\u2500\u2500\u2500\u2500\u2500\u23a5\n",
        "\u2083\u2081 + r\u2082\u2081\u22c5r\u2083\u2082 - r\u2082\u2081 + r\u2082\u2083\u22c5r\u2083\u2081 - r\u2082\u2083 - r\u2083\u2081 - r\u2083\u2082 + 1\u23a5\n",
        "                                                  \u23a5\n",
        "+ r\u2081\u2083\u22c5r\u2082\u2081 + r\u2081\u2083\u22c5r\u2082\u2083 - r\u2081\u2083 - r\u2082\u2081 - r\u2082\u2083 + 1         \u23a5\n",
        "\u2500\u2500\u2500\u2500\u2500\u2500\u2500\u2500\u2500\u2500\u2500\u2500\u2500\u2500\u2500\u2500\u2500\u2500\u2500\u2500\u2500\u2500\u2500\u2500\u2500\u2500\u2500\u2500\u2500\u2500\u2500\u2500\u2500\u2500\u2500\u2500\u2500\u2500\u2500\u2500\u2500\u2500\u2500\u2500\u2500\u2500\u2500\u2500\u2500\u2500\u23a5\n",
        "\u2083\u2081 + r\u2082\u2081\u22c5r\u2083\u2082 - r\u2082\u2081 + r\u2082\u2083\u22c5r\u2083\u2081 - r\u2082\u2083 - r\u2083\u2081 - r\u2083\u2082 + 1\u23a6"
       ]
      }
     ],
     "prompt_number": 38
    },
    {
     "cell_type": "markdown",
     "metadata": {},
     "source": [
      "Show that this is consistent with the $n$ = 2 case, when all terms involving $a_3$ are set to zero."
     ]
    },
    {
     "cell_type": "code",
     "collapsed": false,
     "input": [
      "pn2 = p.subs({f3: 0, r13: 0, r23: 0, r31: 0, r32: 0})\n",
      "pn2[0] = pn2[0].subs(f2, 1-f1)\n",
      "pn2[1] = pn2[1].subs(f1, 1-f2)\n",
      "clean(pn2)\n",
      "pn2[0], pn2[1]"
     ],
     "language": "python",
     "metadata": {},
     "outputs": [
      {
       "latex": [
        "$$\\begin{pmatrix}\\frac{- f_{1} + r_{21}}{r_{12} + r_{21} -1}, & \\frac{- f_{2} + r_{12}}{r_{12} + r_{21} -1}\\end{pmatrix}$$"
       ],
       "output_type": "pyout",
       "prompt_number": 40,
       "text": [
        "(\n",
        "  -f\u2081 + r\u2082\u2081  \n",
        "\u2500\u2500\u2500\u2500\u2500\u2500\u2500\u2500\u2500\u2500\u2500\u2500\u2500\n",
        "r\u2081\u2082 + r\u2082\u2081 - 1,\n",
        " \n",
        "  -f\u2082 + r\u2081\u2082  \n",
        "\u2500\u2500\u2500\u2500\u2500\u2500\u2500\u2500\u2500\u2500\u2500\u2500\u2500\n",
        "r\u2081\u2082 + r\u2082\u2081 - 1)"
       ]
      }
     ],
     "prompt_number": 40
    },
    {
     "cell_type": "code",
     "collapsed": false,
     "input": [],
     "language": "python",
     "metadata": {},
     "outputs": []
    }
   ],
   "metadata": {}
  }
 ]
}